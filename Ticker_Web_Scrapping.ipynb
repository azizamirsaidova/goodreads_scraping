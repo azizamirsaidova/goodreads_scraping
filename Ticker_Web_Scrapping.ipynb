{
 "cells": [
  {
   "cell_type": "code",
   "execution_count": 1,
   "metadata": {},
   "outputs": [],
   "source": [
    "#Import Libraries\n",
    "import requests\n",
    "import time\n",
    "import pandas as pd\n",
    "import json "
   ]
  },
  {
   "cell_type": "code",
   "execution_count": null,
   "metadata": {},
   "outputs": [],
   "source": [
    "#Read the file\n",
    "df_org = pd.read_excel('ticker_name.xlsx') "
   ]
  },
  {
   "cell_type": "code",
   "execution_count": null,
   "metadata": {},
   "outputs": [],
   "source": [
    "#Check the file\n",
    "df_org.A.values "
   ]
  },
  {
   "cell_type": "code",
   "execution_count": null,
   "metadata": {},
   "outputs": [],
   "source": [
    "#Loop through the file and append the information for each ticker\n",
    "df_final = pd.DataFrame()\n",
    "for ticker in df_org.A.values:  \n",
    "    url = \"https://api.quiverquant.com/beta/historical/wallstreetbets/{}\".format(ticker)\n",
    "    print(ticker, url)\n",
    "    headers = {'accept': 'application/json',\n",
    "    'X-CSRFToken': 'TOKEN',\n",
    "    'Authorization': 'TOKEN'}\n",
    "    r=requests.get(url, headers=headers)\n",
    "    time.sleep(6)\n",
    "    data=json.loads(r.text)\n",
    "    df = pd.DataFrame.from_dict(data)\n",
    "    df_final = pd.concat([df_final,df])\n",
    "    \n",
    "df_final.to_csv(\"output.csv\")"
   ]
  }
 ],
 "metadata": {
  "kernelspec": {
   "display_name": "Python 3",
   "language": "python",
   "name": "python3"
  },
  "language_info": {
   "codemirror_mode": {
    "name": "ipython",
    "version": 3
   },
   "file_extension": ".py",
   "mimetype": "text/x-python",
   "name": "python",
   "nbconvert_exporter": "python",
   "pygments_lexer": "ipython3",
   "version": "3.8.3"
  }
 },
 "nbformat": 4,
 "nbformat_minor": 4
}
